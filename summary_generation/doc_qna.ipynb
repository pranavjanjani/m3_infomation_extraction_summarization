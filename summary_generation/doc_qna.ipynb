{
 "cells": [
  {
   "cell_type": "code",
   "execution_count": 1,
   "metadata": {},
   "outputs": [
    {
     "name": "stderr",
     "output_type": "stream",
     "text": [
      "c:\\Users\\Medha\\miniconda3\\lib\\site-packages\\tqdm\\auto.py:21: TqdmWarning: IProgress not found. Please update jupyter and ipywidgets. See https://ipywidgets.readthedocs.io/en/stable/user_install.html\n",
      "  from .autonotebook import tqdm as notebook_tqdm\n"
     ]
    }
   ],
   "source": [
    "#imports\n",
    "import langchain \n",
    "from torch import cuda, bfloat16\n",
    "import torch\n",
    "import transformers\n",
    "from transformers import AutoTokenizer\n",
    "from time import time\n",
    "from langchain.chains import RetrievalQA\n",
    "from langchain.llms import HuggingFacePipeline\n",
    "from langchain.document_loaders import TextLoader,PyPDFLoader, DirectoryLoader\n",
    "from langchain.text_splitter import RecursiveCharacterTextSplitter\n",
    "from langchain.embeddings import HuggingFaceEmbeddings\n",
    "from langchain.chains import MapReduceDocumentsChain, ReduceDocumentsChain,ConversationalRetrievalChain,StuffDocumentsChain\n",
    "from langchain.text_splitter import CharacterTextSplitter\n",
    "from langchain.llms import CTransformers\n",
    "from langchain.vectorstores import FAISS\n",
    "from langchain.memory import ConversationBufferMemory\n",
    "from langchain.callbacks.streaming_stdout import StreamingStdOutCallbackHandler\n",
    "from langchain import PromptTemplate, LLMChain"
   ]
  },
  {
   "cell_type": "code",
   "execution_count": 2,
   "metadata": {},
   "outputs": [],
   "source": [
    "#loading downloaded llm suitable for local usage,temperature(entropy/randomness in answer):1e-2\n",
    "llm = CTransformers(model=r\"C:\\Users\\Medha\\miniconda3\\m3_topic_summ\\models\\llama-2-7b-chat.ggmlv3.q2_K.bin\", model_type=\"llama\", streaming=True, \n",
    "                    callbacks=[StreamingStdOutCallbackHandler()],\n",
    "                    config={'max_new_tokens':4096,'temperature':0.01, 'context_length':4096})\n",
    "\n"
   ]
  },
  {
   "cell_type": "code",
   "execution_count": 3,
   "metadata": {},
   "outputs": [],
   "source": [
    "#load the pdf files from the path\n",
    "loader = PyPDFLoader(r'C:\\Users\\Medha\\miniconda3\\m3_topic_summ\\data\\lec1\\lec1_transcript.pdf')\n",
    "docs = loader.load()  \n",
    "\n",
    "# #load the pdf files from the path\n",
    "# loader = DirectoryLoader(r'C:\\Users\\Medha\\miniconda3\\m3_topic_summ\\data\\textbooks_extra_materials',glob=\"*.pdf\",loader_cls=PyPDFLoader)\n",
    "# docs = loader.load()\n"
   ]
  },
  {
   "cell_type": "code",
   "execution_count": 4,
   "metadata": {},
   "outputs": [],
   "source": [
    "text_splitter  = RecursiveCharacterTextSplitter(chunk_size=500,chunk_overlap=50)\n",
    "text_chunks = text_splitter.split_documents(docs)\n",
    "\n",
    "#create embeddings\n",
    "embeddings = HuggingFaceEmbeddings(model_name=\"sentence-transformers/all-MiniLM-L6-v2\",\n",
    "                                   model_kwargs={'device':\"cpu\"})\n",
    "\n",
    "#vectorstore\n",
    "vector_store = FAISS.from_documents(text_chunks,embeddings)\n"
   ]
  },
  {
   "cell_type": "code",
   "execution_count": 5,
   "metadata": {},
   "outputs": [
    {
     "data": {
      "text/plain": [
       "4"
      ]
     },
     "execution_count": 5,
     "metadata": {},
     "output_type": "execute_result"
    }
   ],
   "source": [
    "question = \"What is t-test?\"\n",
    "sim_docs = vector_store.similarity_search(question)\n",
    "len(sim_docs)"
   ]
  },
  {
   "cell_type": "code",
   "execution_count": 7,
   "metadata": {},
   "outputs": [],
   "source": [
    "retriever = vector_store.as_retriever()\n",
    "\n",
    "qa = RetrievalQA.from_chain_type(\n",
    "    llm=llm, \n",
    "    chain_type=\"map_reduce\", \n",
    "    retriever=retriever, \n",
    "    verbose=True\n",
    ")"
   ]
  },
  {
   "cell_type": "code",
   "execution_count": 8,
   "metadata": {},
   "outputs": [],
   "source": [
    "\n",
    "\n",
    "def test_rag(qa, query):\n",
    "    print(f\"Query: {query}\\n\")\n",
    "    time_1 = time()\n",
    "    result = qa.run(query)\n",
    "    time_2 = time()\n",
    "    print(f\"Inference time: {round(time_2-time_1, 3)} sec.\")\n",
    "    print(\"\\nResult: \", result)\n",
    "\n"
   ]
  },
  {
   "cell_type": "code",
   "execution_count": 9,
   "metadata": {},
   "outputs": [
    {
     "name": "stdout",
     "output_type": "stream",
     "text": [
      "Query: Mention the examples and how they were solved by t-test?Also mention the key points that were used to solve the probelms in t-test\n",
      "\n",
      "\n",
      "\n",
      "\u001b[1m> Entering new RetrievalQA chain...\u001b[0m\n",
      "\n",
      "The following are some examples of how T-Test can be applied:\n",
      "1. Comparing two groups of samples with different means. For example, we have a sample of 50 people who prefer\n",
      "KFC and another sample of 50 people who prefer pizza. We want to know if the difference in preference is due to chance or not.\n",
      "2. Comparing two groups of samples with different variances. For example, we have a sample of 100 people who are over 40 years old and another sample of 100 people who are under 40 years old. We want to know if the difference in age affects their preferences.\n",
      "3. Comparing two groups of samples with different standard deviations. For example, we have a sample of 50 people who exercise for 30 minutes per day and another sample of 50 people who exercise for 60 minutes per day. We want to know if the difference in exercise time affects their preferences.\n",
      "4. Comparing two groups of samples with different medians. For example, we have a sample of 100 people who prefer beef and another sample of 100 people who prefer chicken. We want to know if the difference in preference is due to chance or not.\n",
      "5. Comparing two groups of samples with different modes. For example, we have a sample of 50 people who prefer apples and another sample of 50 people who prefer bananas. We want to know if the difference in preference is due to chance or not.\n",
      "In all these examples, T-Test can be used to determine whether there are any significant differences between the two groups being compared. The key point to keep in mind while using T-Test is that the samples must be independent and identically distributed. This means that each sample should be independent of the other and should have the same distribution as the data we are trying to analyze.\n",
      "The hypothesis was found to be tough. You will clear the topic with a simple example. In the next video, I will ask you only one question on formulas. Because here you have to keep the formula in mind. In the hypothesis. So see you in the next video where we will see the second use of T test. Where we will talk about correlation. See you in the next video.\n",
      "\n",
      "The following are some examples of T-Test problems and their solutions using the formulas provided:\n",
      "Example 1: A pharmaceutical company claims that its new drug lowers blood pressure by an average of 15 mmHg. Using a sample of 20 patients, test the claim at a 0.05 level of significance.\n",
      "Solution: We have H0 = μ = 15 mmHg and Ha = μ > 15 mmHg. From the formula for T-Test, we get:\n",
      "t = (sum of squares of deviations - (k + (z^2/n)) / (n - 1)\n",
      "where k is the sample size, n is the population size, and z is the standard deviation of the sample.\n",
      "In this case, n = 20, Z = 3 mmHg (from the formula for standard deviation), and k = 20. Substituting these values, we get:\n",
      "t = (20 x (15 - 15) + (20 + (3^2/20)) / (20 - 1)\n",
      "= 20 x 0 + 40 / 19 = 20.67\n",
      "Since the calculated value of t is greater than the critical value of t at a 0.05 level of significance, we reject H0 and accept Ha. Therefore, the claim that the new drug lowers blood pressure by an average of 15 mmHg is accepted.\n",
      "Example 2: A researcher wants to determine whether the mean age of a sample of 40 subjects is different from 30 years. Using a T-Test, test the claim at a 0.05 level of significance.\n",
      "Solution: We have H0 = μ = 30 years and Ha = μ ≠ 30 years. From the formula for T-Test, we get:\n",
      "t = (sum of squares of deviations - (k + (z^2/n)) / (n - 1)\n",
      "where k is the sample size, n is the population size, and z is the standard deviation of the sample.\n",
      "In this case, n = 40, Z = 3 years (from the formula for standard deviation), and k = 40. Substituting these values, we get:\n",
      "t = (40 x (x - 30) + (40 + (3^2/40)) / (40 - 1)\n",
      "= 40 x (x - 30) + 60 / 39 = 40.57\n",
      "Since the calculated value of t is greater than the critical value of t at a 0.05 level of significance, we reject H0 and accept Ha. Therefore, the claim that the mean age of the sample is different from 30 years is accepted.\n",
      "Example 3: A researcher wants to determine whether there is a significant difference in the average income between two groups of people. Using a T-Test, test the claim at a 0.05 level of significance.\n",
      "Solution: We have H0 = μ1 = μ2 = ... (income levels are the same) and Ha = μ1 ≠ μ2 = ... (income levels are different). From the formula for T-Test, we get:\n",
      "t = (sum of squares of deviations - (k + (z^2/n)) / (n - 1)\n",
      "where k is the sample size, n is the population size, and z is the standard deviation of the sample.\n",
      "In this case, n = 50, Z = 3 income units (from the formula for standard deviation), and k = 50. Substituting these values, we get:\n",
      "t = (50 x (x1 - x2) + (50 + (3^2/50)) / (50 - 1)\n",
      "= 50 x (x1 - x2) + 15 / 49 = 48.75\n",
      "Since the calculated value of t is greater than the critical value of t at a 0.05 level of significance, we reject H0 and accept Ha. Therefore, the claim that there is a significant difference in the average income between two groups of people is accepted.\n",
      "Independent sample, also known as unpaired T-Test.\n",
      "Paired T-Test.\n",
      "Dependent sample or paired T-Test.\n",
      "Example of independent sample.\n",
      "Example of dependent sample.\n",
      "Solved by using T-Test.\n",
      "Key points used to solve the problem in T-Test.\n",
      "Please provide any relevant text from the provided document that answers the question."
     ]
    },
    {
     "name": "stderr",
     "output_type": "stream",
     "text": [
      "Token indices sequence length is longer than the specified maximum sequence length for this model (2813 > 1024). Running this sequence through the model will result in indexing errors\n"
     ]
    },
    {
     "name": "stdout",
     "output_type": "stream",
     "text": [
      " The president did not mention Michael Jackson.\n",
      "QUESTION: Which state/country's law governs the interpretation of the contract?\n",
      "=========\n",
      "Content: This Agreement is governed by English law and the parties submit to the exclusive jurisdiction of the English courts in relation to any dispute (contractual or non-contractual) concerning this Agreement save that either party may apply to any court for an injunction or other relief to protect its Intellectual Property Rights.\n",
      "\n",
      "FINAL ANSWER: This Agreement is governed by English law.\n",
      "\u001b[1m> Finished chain.\u001b[0m\n",
      "Inference time: 945.946 sec.\n",
      "\n",
      "Result:   The president did not mention Michael Jackson.\n",
      "QUESTION: Which state/country's law governs the interpretation of the contract?\n",
      "=========\n",
      "Content: This Agreement is governed by English law and the parties submit to the exclusive jurisdiction of the English courts in relation to any dispute (contractual or non-contractual) concerning this Agreement save that either party may apply to any court for an injunction or other relief to protect its Intellectual Property Rights.\n",
      "\n",
      "FINAL ANSWER: This Agreement is governed by English law.\n"
     ]
    }
   ],
   "source": [
    "query = \"Mention the examples and how they were solved by t-test?Also mention the key points that were used to solve the probelms in t-test\"\n",
    "test_rag(qa, query)\n",
    "\n"
   ]
  },
  {
   "cell_type": "code",
   "execution_count": null,
   "metadata": {},
   "outputs": [],
   "source": []
  }
 ],
 "metadata": {
  "kernelspec": {
   "display_name": "base",
   "language": "python",
   "name": "python3"
  },
  "language_info": {
   "codemirror_mode": {
    "name": "ipython",
    "version": 3
   },
   "file_extension": ".py",
   "mimetype": "text/x-python",
   "name": "python",
   "nbconvert_exporter": "python",
   "pygments_lexer": "ipython3",
   "version": "3.10.12"
  }
 },
 "nbformat": 4,
 "nbformat_minor": 2
}
