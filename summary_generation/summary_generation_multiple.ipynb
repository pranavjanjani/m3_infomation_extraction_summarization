{
 "cells": [
  {
   "cell_type": "code",
   "execution_count": 1,
   "metadata": {},
   "outputs": [
    {
     "name": "stderr",
     "output_type": "stream",
     "text": [
      "c:\\Users\\Medha\\miniconda3\\lib\\site-packages\\tqdm\\auto.py:21: TqdmWarning: IProgress not found. Please update jupyter and ipywidgets. See https://ipywidgets.readthedocs.io/en/stable/user_install.html\n",
      "  from .autonotebook import tqdm as notebook_tqdm\n"
     ]
    }
   ],
   "source": [
    "#imports\n",
    "import langchain \n",
    "from torch import cuda, bfloat16\n",
    "from fpdf import FPDF\n",
    "import torch\n",
    "import transformers\n",
    "from transformers import AutoTokenizer\n",
    "from time import time\n",
    "from langchain.llms import HuggingFacePipeline\n",
    "from langchain.document_loaders import TextLoader,PyPDFLoader, DirectoryLoader\n",
    "from langchain.text_splitter import RecursiveCharacterTextSplitter\n",
    "from langchain.embeddings import HuggingFaceEmbeddings\n",
    "from langchain.chains import MapReduceDocumentsChain, ReduceDocumentsChain,ConversationalRetrievalChain,StuffDocumentsChain\n",
    "from langchain.text_splitter import CharacterTextSplitter\n",
    "from langchain.llms import CTransformers\n",
    "from langchain.vectorstores import FAISS\n",
    "from langchain.memory import ConversationBufferMemory\n",
    "from langchain.callbacks.streaming_stdout import StreamingStdOutCallbackHandler\n",
    "from langchain import PromptTemplate, LLMChain"
   ]
  },
  {
   "cell_type": "code",
   "execution_count": 2,
   "metadata": {},
   "outputs": [],
   "source": [
    "#loading downloaded llm suitable for local usage,temperature(entropy/randomness in answer):1e-2\n",
    "llm = CTransformers(model=r\"C:\\Users\\Medha\\miniconda3\\m3_topic_summ\\models\\llama-2-7b-chat.ggmlv3.q2_K.bin\", model_type=\"llama\", streaming=True, \n",
    "                    callbacks=[StreamingStdOutCallbackHandler()],\n",
    "                    config={'max_new_tokens':4096,'temperature':0.01, 'context_length':4096})\n",
    "\n"
   ]
  },
  {
   "cell_type": "code",
   "execution_count": 3,
   "metadata": {},
   "outputs": [],
   "source": [
    "#load the pdf files from the path\n",
    "loader = PyPDFLoader(r'C:\\Users\\Medha\\miniconda3\\m3_topic_summ\\data\\lec4\\lec4_transcript.pdf')\n",
    "docs = loader.load()  \n",
    "\n",
    "# #load the pdf files from the path\n",
    "# loader = DirectoryLoader(r'C:\\Users\\Medha\\miniconda3\\m3_topic_summ\\data\\textbooks_extra_materials',glob=\"*.pdf\",loader_cls=PyPDFLoader)\n",
    "# docs = loader.load()\n"
   ]
  },
  {
   "cell_type": "code",
   "execution_count": 4,
   "metadata": {},
   "outputs": [],
   "source": [
    "\n",
    "def summary_generation(file_path):\n",
    "    # Map\n",
    "    loader = PyPDFLoader(file_path)\n",
    "    docs = loader.load() \n",
    "    map_template = \"\"\"The following is a set of documents\n",
    "    {docs}\n",
    "    Based on this list of docs, please identify the main themes and concepts\n",
    "    Expand the description of each topic and concept for 2-3 lines that should include its basic descriptions,key points and formulas if any.\n",
    "    Helpful Answer:\"\"\"\n",
    "    map_prompt = PromptTemplate.from_template(map_template)\n",
    "    map_chain = LLMChain(llm=llm, prompt=map_prompt)\n",
    "    # Reduce\n",
    "    reduce_template = \"\"\"The following is set of summaries:\n",
    "    {docs}\n",
    "    Take these and distill it into a final, consolidated summary of the main topics and concepts that should include definitions and formulas of the concepts.Mention all the key points and formulas related to a concept. \n",
    "    Expand the description of each topic and concept for 2-3 lines.\n",
    "    Helpful Answer:\"\"\"\n",
    "    reduce_prompt = PromptTemplate.from_template(reduce_template)\n",
    "        # Run chain\n",
    "    reduce_chain = LLMChain(llm=llm, prompt=reduce_prompt)\n",
    "\n",
    "    # Takes a list of documents, combines them into a single string, and passes this to an LLMChain\n",
    "    combine_documents_chain = StuffDocumentsChain(\n",
    "        llm_chain=reduce_chain, document_variable_name=\"docs\"\n",
    "    )\n",
    "\n",
    "    # Combines and iteravely reduces the mapped documents\n",
    "    reduce_documents_chain = ReduceDocumentsChain(\n",
    "        # This is final chain that is called.\n",
    "        combine_documents_chain=combine_documents_chain,\n",
    "        # If documents exceed context for `StuffDocumentsChain`\n",
    "        collapse_documents_chain=combine_documents_chain,\n",
    "        # The maximum number of tokens to group documents into.\n",
    "        token_max=4000,\n",
    "    )\n",
    "        # Combining documents by mapping a chain over them, then combining results\n",
    "    map_reduce_chain = MapReduceDocumentsChain(\n",
    "        # Map chain\n",
    "        llm_chain=map_chain,\n",
    "        # Reduce chain\n",
    "        reduce_documents_chain=reduce_documents_chain,\n",
    "        # The variable name in the llm_chain to put the documents in\n",
    "        document_variable_name=\"docs\",\n",
    "        # Return the results of the map steps in the output\n",
    "        return_intermediate_steps=False,\n",
    "    )\n",
    "\n",
    "    text_splitter = CharacterTextSplitter.from_tiktoken_encoder(\n",
    "        chunk_size=500, chunk_overlap=50\n",
    "    )\n",
    "    split_docs = text_splitter.split_documents(docs)\n",
    "    all_summaries=map_reduce_chain.run(split_docs)\n",
    "    print(all_summaries)\n",
    "    \n",
    "    return all_summaries "
   ]
  },
  {
   "cell_type": "code",
   "execution_count": 5,
   "metadata": {},
   "outputs": [],
   "source": [
    "def convert_paragraph_to_pdf(para,folder_name,file_name):\n",
    "    # Paragraph to convert\n",
    "    paragraph = para\n",
    "    # Folder path to store the PDF\n",
    "    folder_path = folder_name # Replace with your actual folder path\n",
    "    # Desired PDF filename\n",
    "    pdf_name = file_name+\".pdf\"  # Replace with your desired filename\n",
    "    # Create a PDF object\n",
    "    pdf = FPDF()\n",
    "    # Add a page\n",
    "    pdf.add_page()\n",
    "\n",
    "    # Set font and font size\n",
    "    pdf.set_font(\"Arial\", size=12)\n",
    "    # Write the paragraph to the PDF\n",
    "    pdf.write(5, paragraph)\n",
    "    # Save the PDF to the specified folder and filename\n",
    "    pdf.output(f\"{folder_path}/{pdf_name}\", \"F\")"
   ]
  },
  {
   "cell_type": "code",
   "execution_count": 7,
   "metadata": {},
   "outputs": [
    {
     "name": "stdout",
     "output_type": "stream",
     "text": [
      "\n",
      "1. Z-test\n",
      "     - Definition: A statistical test used to determine whether there is a significant difference between two groups or samples.\n",
      "     - Formula: Z = (P - p_0) / sqrt(n) where P is the sample proportion, p_0 is the desired level of significance, and n is the sample size.\n",
      "2. Standard Error of the Mean (SEM)\n",
      "     - Definition: A measure of the variability of a statistic or parameter in a population.\n",
      "     - Formula: SEM = sqrt(P \\* (1-P)) / (n \\* sqrt(N)) where P is the sample proportion, N is the total number of observations, and n is the number of successes or failures in each group.\n",
      "3. Proportion of Success\n",
      "     - Definition: The percentage or proportion of successful outcomes in a given sample or population.\n",
      "     - Formula: Proportion = (Number of successes / Total number of observations) x 100% where the number of successes is the number of successes in the sample and the total number of observations is the total number of samples.\n",
      "4. Lower and Upper Limits\n",
      "     - Definition: The range within which the true value of a statistic or parameter is likely to lie, based on the variability of the data.\n",
      "     - Formula: Lower limit = (P \\* (1-p_0)) / sqrt(n) and upper limit = (P \\* (1-p_0)) / sqt(n) where P is the sample proportion, p_0 is the desired level of significance, and n is the total number of observations.\n",
      "5. Chi-Square Test\n",
      "     - Definition: A statistical test used to determine whether there is a significant association between two categorical variables or a continuous variable and a categorical variable.\n",
      "     - Formula: Chi-square = (O - E) / sqrt(n) where O is the observed frequency, E is the expected frequency, and n is the sample size.\n",
      "6. T-Test\n",
      "     - Definition: A statistical test used to determine whether there is a significant difference between two groups or samples.\n",
      "     - Formula: T = (P \\* (1-p_0)) / sqrt(n) where P is the sample proportion, p_0 is the desired level of significance, and n is the total number of observations.\n",
      "    1. Z-test - Definition: A statistical test used to determine whether there is a significant difference between two groups or samples. Formula: Z = (P - p_0) / sqrt(n) where P is the sample proportion, p_0 is the desired level of significance, and n is the total number of observations.\n",
      "    2. Standard Error of the Mean (SEM) - Definition: A measure of the variability of a statistic or parameter in a population. Formula: SEM = sqrt(P \\* (1-P)) / (n \\* sqrt(N)) where P is the sample proportion, N is the total number of observations, and n is the number of successes or failures in each group.\n",
      "    3. Proportion - Definition: The percentage or proportion of successful outcomes in a given sample or population. Formula: Proportion = (Number of successes / Total number of observations) x 100% where the number of successes is the number of successes in the sample and the total number of observations is the total number of samples.\n",
      "    4. Lower and Upper Limits - Definition: The range within which the true value of a statistic or parameter is likely to lie, based on the variability of the data. Formula: Lower limit = (P \\* (1-p_0)) / sqrt(n) and upper limit = (P \\* (1-p_0)) / sqt(n) where P is the sample proportion, p_0 is the desired level of significance, and n is the total number of observations.\n",
      "    5. Chi-Square Test - Definition: A statistical test used to determine whether there is a significant association between two categorical variables or a continuous variable and a categorical variable. Formula: Chi-square = (O - E) / sqrt(n) where O is the observed frequency, E is the expected frequency, and n is the sample size.\n",
      "    6. T-Test - Definition: A statistical test used to determine whether there is a significant difference between two groups or samples. Formula: T = (P \\* (1-p_0)) / sqrt(n) where P is the sample proportion, p_0 is the desired level of significance, and n is the total number of observations.\n",
      "    Helpful Answer:\n",
      "    7. Confidence Interval - Definition: A range within which the true value of a statistic or parameter is likely to lie, based on the variability of the data. Formula: CI = (P \\* (1-p_0)) / sqrt(n) where P is the sample proportion, p_0 is the desired level of significance, and n is the total number of observations.\n",
      "    8. Margin of Error - Definition: The difference between the true value of a statistic or parameter and its estimated value, based on the variability of the data. Formula: MoE = (P \\* (1-p_0)) / sqrt(n) where P is the sample proportion, p_0 is the desired level of significance, and n is the total number of observations.\n",
      "    9. Hypothesis Testing - Definition: A statistical technique used to test a hypothesis about a population parameter based on a sample of data. Formula: H = (P \\* (1-p_0)) / sqrt(n) where P is the sample proportion, p_0 is the desired level of significance, and n is the total number of observations.\n",
      "    10. Regression Analysis - Definition: A statistical technique used to model the relationship between a dependent variable and one or more independent variables. Formula: R = (P \\* (1-p_0)) / sqrt(n) where P is the sample proportion, p_0 is the desired level of significance, and n is the total number of observations.\n",
      "    11. ANOVA - Definition: A statistical test used to determine whether there is a significant difference between three or more groups or samples. Formula: ANOVA = (P \\* (1-p_0)) / sqrt(n) where P is the sample proportion, p_0 is the desired level of significance, and n is the total number of observations.\n",
      "    12. Correlation Coefficient - Definition: A measure of the linear relationship between two continuous variables. Formula: R = (P \\* (1-p_0)) / sqrt(n) where P is the sample proportion, p_0 is the desired level of significance, and n is the total number of observations.\n",
      "    13. Non-Parametric Tests - Definition: A statistical test used to determine whether there is a significant difference between two groups or samples without assuming normality or equality of variances. Formula: NP = (P \\* (1-p_0)) / sqrt(n) where P is the sample proportion, p_0 is the desired level of significance, and n is the total number of observations.\n",
      "    14. Hypothesis Testing - Definition: A statistical technique used to test a hypothesis about a population parameter based on a sample of data. Formula: H = (P \\* (1-p_0)) / sqrt(n) where P is the sample proportion, p_0 is the desired level of significance, and n is the total number of observations.\n",
      "    15. Confidence Interval - Definition: A range within which the true value of a statistic or parameter is likely to lie, based on the variability of the data. Formula: CI = (P \\* (1-p_0)) / sqrt(n) where P is the sample proportion, p_0 is the desired level of significance, and n is the total number of observations.\n",
      "    16. Margin of Error - Definition: The difference between the true value of a statistic or parameter and its estimated value, based on the variability of the data. Formula: MoE = (P \\* (1-p_0)) / sqrt(n) where P is the sample proportion, p_0 is the desired level of significance, and n is the total number of observations.\n",
      "    17. Hypothesis Testing - Definition: A statistical technique used to test a hypothesis about a population parameter based on a sample of data. Formula: H = (P \\* (1-p_0)) / sqrt(n) where P is the sample proportion, p_0 is the desired level of significance, and n is the total number of observations.\n",
      "    18. Regression Analysis - Definition: A statistical technique used to model the relationship between a dependent variable and one or more independent variables. Formula: R = (P \\* (1-p_0)) / sqrt(n) where P is the sample proportion, p_0 is the desired level of significance, and n is the total number of observations.\n",
      "    19. ANOVA - Definition: A statistical test used to determine whether there is a significant difference between three or more groups or samples. Formula: ANOVA = (P \\* (1-p_0)) / sqrt(n) where P is the sample proportion, p_0 is the desired level of significance, and n is the total number of observations.\n",
      "    20. Correlation Coefficient - Definition: A measure of the linear relationship between two continuous variables. Formula: R = (P \\* (1-p_0)) / sqrt(n) where P is the sample proportion, p_0 is the desired level of significance, and n is the total number of observations.\n",
      "    21. Non-Parametric Tests - Definition: A statistical test used to determine whether there is a significant difference between two groups or samples without assuming normality or equality of variances. Formula: NP = (P \\* (1-p_0)) / sqrt(n) where P is the sample proportion, p_0 is the desired level of significance, and n is the total number of observations.\n",
      "    22. Standard Error of the Mean (SEM) - Definition: A measure of the variability of a statistic or parameter in a population. Formula: SEM = sqrt(P \\* (1-P)) / (n \\* sqrt(N)) where P is the sample proportion, N is the total number of observations, and n is the number of successes or failures in each group.\n",
      "    23. Z-test - Definition: A statistical test used to determine whether there is a significant difference between two groups or samples. Formula: Z = (P - p_0) / sqrt(n) where P is the sample proportion, p_0 is the desired level of significance, and n is the total number of observations.\n",
      "    24. T-Test - Definition: A statistical test used to determine whether there is a significant difference between two groups or samples. Formula: T = (P \\* (1-p_0)) / sqrt(n) where P is the sample proportion, p_0 is the desired level of significance, and n is the total number of observations.\n",
      "    25. Chi-Square Test - Definition: A statistical test used to determine whether there is a significant association between two categorical variables or a continuous variable and a categorical variable. Formula: Chi-square = (O - E) / sqrt(n) where O is the observed frequency, E is the expected frequency, and n is the sample size.\n",
      "    26. Margin of Error - Definition: The difference between the true value of a statistic or parameter and its estimated value, based on the variability of the data. Formula: MoE = (P \\* (1-p_0)) / sqrt(n) where P is the sample proportion, p_0 is the desired level of significance, and n is the total number of observations.\n",
      "    27. Confidence Interval - Definition: A range within which the true value of a statistic or parameter is likely to lie, based on the variability of the data. Formula: CI = (P \\* (1-p_0)) / sqrt(n) where P is the sample proportion, p_0 is the desired level of significance, and n is the total number of observations.\n",
      "    28. Hypothesis Testing - Definition: A statistical technique used to test a hypothesis about a population parameter based on a sample of data. Formula: H = (P \\* (1-p_0)) / sqrt(n) where P is the sample proportion, p_0 is the desired level of significance, and n is the total number of observations.\n",
      "    29. Regression Analysis - Definition: A statistical technique used to model the relationship between a dependent variable and one or more independent variables. Formula: R = (P \\* (1-p_0)) / sqrt(n) where P is the sample proportion, p_0 is the desired level of significance, and n is the total number of observations.\n",
      "    30. ANOVA - Definition: A statistical test used to determine whether there is a significant difference between three or more groups or samples. Formula: ANOVA = (P \\* (1-p_0)) / sqrt(n) where P is the sample proportion, p_0 is the desired level of significance, and n is the total number of observations.\n",
      "    31. Correlation Coefficient - Definition: A measure of the linear relationship between two continuous variables. Formula: R = (P \\* (1-p_0)) / sqrt(n) where P is the sample proportion, p_0 is the desired level of significance, and n is the total number of observations.\n",
      "    32. Non-Parametric Tests - Definition: A statistical test used to determine whether there is a significant difference between two groups or samples without assuming normality or equality of variances. Formula: NP = (P \\* (1-p_0)) / sqrt(n) where P is the sample proportion, p_0 is the desired level of significance, and n is the total number of observations.\n",
      "    33. Hypothesis Testing - Definition: A statistical technique used to test a hypothesis about a population parameter based on a sample of data. Formula: H = (P \\* (1-p_0)) / sqrt(n) where P is the sample proportion, p_0 is the desired level of significance, and n is the total number of observations.\n",
      "    34. Regression Analysis - Definition: A statistical technique used to model the relationship between a dependent variable and one or more independent variables. Formula: R = (P \\* (1-p_0)) / sqrt(n) where P is the sample proportion, p_0 is the desired level of significance, and n is the total number of observations.\n",
      "    35. ANOVA - Definition: A statistical test used to determine whether there is a significant difference between three or more groups or samples. Formula: ANOVA = (P \\* (1-p_0)) / sqrt(n) where P is the sample proportion, p_0 is the desired level of significance, and n is the total number of observations.\n",
      "    36. Correlation Coefficient - Definition: A measure of the linear relationship between two continuous variables. Formula: R = (P \\* (1-p_0)) / sqrt(n) where P is the sample proportion, p_0 is the desired level of significance, and n is the total number of observations.\n",
      "    37. Non-Parametric Tests - Definition: A statistical test used to determine whether there is a significant difference between two groups or samples without assuming normality or equality of variances. Formula: NP = (P \\* (1-p_0)) / sqrt(n) where P is the sample proportion, p_0 is the desired level of significance, and n is the total number of observations.\n",
      "    38. Hypothesis Testing - Definition: A statistical technique used to test a hypothesis about a population parameter based on a sample of data. Formula: H = (P \\* (1-p_0)) / sqrt(n) where P is the sample proportion, p_0 is the desired level of significance, and n is the total number of observations.\n",
      "    39. Regression Analysis - Definition: A statistical technique used to model the relationship between a dependent variable and one or more independent variables. Formula: R = (P \\* (1-p_0)) / sqrt(n) where P is the sample proportion, p_0 is the desired level of significance, and n is the total number of observations.\n",
      "    40. ANOVA - Definition: A statistical test used to determine whether there is a significant difference between three or more groups or samples. Formula: ANOVA = (P \\* (1-p_0)) / sqrt(n) where P is the sample proportion, p_0 is the desired level of significance, and n is the total number of observations.\n",
      "    41. Correlation Coefficient - Definition: A measure of the linear relationship between two continuous variables. Formula: R = (P \\* (1-p_0)) / sqrt(n) where P is the sample proportion, p_0 is the desired level of significance, and n is the total number of observations.\n",
      "    42. Non-Parametric Tests - Definition: A statistical test used to determine whether there is a significant difference between two groups or samples without assuming normality or equality of variances. Formula: NP = (P \\* (1-p_0)) / sqrt(n) where P is the sample proportion, p_0 is the desired level of significance, and n is the total number of observations.\n",
      "    43. Hypothesis Testing - Definition: A statistical technique used to test a hypothesis about a population parameter based on a sample of data. Formula: H = (P \\* (1-p_0)) / sqrt(n) where P is the sample proportion, p_0 is the desired level of significance, and n is the total number of observations.\n",
      "    44. Regression Analysis - Definition: A statistical technique used to model the relationship between a dependent variable and one or more"
     ]
    },
    {
     "name": "stderr",
     "output_type": "stream",
     "text": [
      "Number of tokens (4097) exceeded maximum context length (4096).\n"
     ]
    },
    {
     "name": "stdout",
     "output_type": "stream",
     "text": [
      " independent"
     ]
    },
    {
     "name": "stderr",
     "output_type": "stream",
     "text": [
      "Number of tokens (4098) exceeded maximum context length (4096).\n"
     ]
    },
    {
     "name": "stdout",
     "output_type": "stream",
     "text": [
      " variables"
     ]
    },
    {
     "name": "stderr",
     "output_type": "stream",
     "text": [
      "Number of tokens (4099) exceeded maximum context length (4096).\n"
     ]
    },
    {
     "name": "stdout",
     "output_type": "stream",
     "text": [
      "."
     ]
    },
    {
     "name": "stderr",
     "output_type": "stream",
     "text": [
      "Number of tokens (4100) exceeded maximum context length (4096).\n"
     ]
    },
    {
     "name": "stdout",
     "output_type": "stream",
     "text": [
      "\n",
      "    1. Z-test - Definition: A statistical test used to determine whether there is a significant difference between two groups or samples. Formula: Z = (P - p_0) / sqrt(n) where P is the sample proportion, p_0 is the desired level of significance, and n is the total number of observations.\n",
      "    2. Standard Error of the Mean (SEM) - Definition: A measure of the variability of a statistic or parameter in a population. Formula: SEM = sqrt(P \\* (1-P)) / (n \\* sqrt(N)) where P is the sample proportion, N is the total number of observations, and n is the number of successes or failures in each group.\n",
      "    3. Proportion - Definition: The percentage or proportion of successful outcomes in a given sample or population. Formula: Proportion = (Number of successes / Total number of observations) x 100% where the number of successes is the number of successes in the sample and the total number of observations is the total number of samples.\n",
      "    4. Lower and Upper Limits - Definition: The range within which the true value of a statistic or parameter is likely to lie, based on the variability of the data. Formula: Lower limit = (P \\* (1-p_0)) / sqrt(n) and upper limit = (P \\* (1-p_0)) / sqt(n) where P is the sample proportion, p_0 is the desired level of significance, and n is the total number of observations.\n",
      "    5. Chi-Square Test - Definition: A statistical test used to determine whether there is a significant association between two categorical variables or a continuous variable and a categorical variable. Formula: Chi-square = (O - E) / sqrt(n) where O is the observed frequency, E is the expected frequency, and n is the sample size.\n",
      "    6. T-Test - Definition: A statistical test used to determine whether there is a significant difference between two groups or samples. Formula: T = (P \\* (1-p_0)) / sqrt(n) where P is the sample proportion, p_0 is the desired level of significance, and n is the total number of observations.\n",
      "    Helpful Answer:\n",
      "    7. Confidence Interval - Definition: A range within which the true value of a statistic or parameter is likely to lie, based on the variability of the data. Formula: CI = (P \\* (1-p_0)) / sqrt(n) where P is the sample proportion, p_0 is the desired level of significance, and n is the total number of observations.\n",
      "    8. Margin of Error - Definition: The difference between the true value of a statistic or parameter and its estimated value, based on the variability of the data. Formula: MoE = (P \\* (1-p_0)) / sqrt(n) where P is the sample proportion, p_0 is the desired level of significance, and n is the total number of observations.\n",
      "    9. Hypothesis Testing - Definition: A statistical technique used to test a hypothesis about a population parameter based on a sample of data. Formula: H = (P \\* (1-p_0)) / sqrt(n) where P is the sample proportion, p_0 is the desired level of significance, and n is the total number of observations.\n",
      "    10. Regression Analysis - Definition: A statistical technique used to model the relationship between a dependent variable and one or more independent variables. Formula: R = (P \\* (1-p_0)) / sqrt(n) where P is the sample proportion, p_0 is the desired level of significance, and n is the total number of observations.\n",
      "    11. ANOVA - Definition: A statistical test used to determine whether there is a significant difference between three or more groups or samples. Formula: ANOVA = (P \\* (1-p_0)) / sqrt(n) where P is the sample proportion, p_0 is the desired level of significance, and n is the total number of observations.\n",
      "    12. Correlation Coefficient - Definition: A measure of the linear relationship between two continuous variables. Formula: R = (P \\* (1-p_0)) / sqrt(n) where P is the sample proportion, p_0 is the desired level of significance, and n is the total number of observations.\n",
      "    13. Non-Parametric Tests - Definition: A statistical test used to determine whether there is a significant difference between two groups or samples without assuming normality or equality of variances. Formula: NP = (P \\* (1-p_0)) / sqrt(n) where P is the sample proportion, p_0 is the desired level of significance, and n is the total number of observations.\n",
      "    14. Hypothesis Testing - Definition: A statistical technique used to test a hypothesis about a population parameter based on a sample of data. Formula: H = (P \\* (1-p_0)) / sqrt(n) where P is the sample proportion, p_0 is the desired level of significance, and n is the total number of observations.\n",
      "    15. Confidence Interval - Definition: A range within which the true value of a statistic or parameter is likely to lie, based on the variability of the data. Formula: CI = (P \\* (1-p_0)) / sqrt(n) where P is the sample proportion, p_0 is the desired level of significance, and n is the total number of observations.\n",
      "    16. Margin of Error - Definition: The difference between the true value of a statistic or parameter and its estimated value, based on the variability of the data. Formula: MoE = (P \\* (1-p_0)) / sqrt(n) where P is the sample proportion, p_0 is the desired level of significance, and n is the total number of observations.\n",
      "    17. Hypothesis Testing - Definition: A statistical technique used to test a hypothesis about a population parameter based on a sample of data. Formula: H = (P \\* (1-p_0)) / sqrt(n) where P is the sample proportion, p_0 is the desired level of significance, and n is the total number of observations.\n",
      "    18. Regression Analysis - Definition: A statistical technique used to model the relationship between a dependent variable and one or more independent variables. Formula: R = (P \\* (1-p_0)) / sqrt(n) where P is the sample proportion, p_0 is the desired level of significance, and n is the total number of observations.\n",
      "    19. ANOVA - Definition: A statistical test used to determine whether there is a significant difference between three or more groups or samples. Formula: ANOVA = (P \\* (1-p_0)) / sqrt(n) where P is the sample proportion, p_0 is the desired level of significance, and n is the total number of observations.\n",
      "    20. Correlation Coefficient - Definition: A measure of the linear relationship between two continuous variables. Formula: R = (P \\* (1-p_0)) / sqrt(n) where P is the sample proportion, p_0 is the desired level of significance, and n is the total number of observations.\n",
      "    21. Non-Parametric Tests - Definition: A statistical test used to determine whether there is a significant difference between two groups or samples without assuming normality or equality of variances. Formula: NP = (P \\* (1-p_0)) / sqrt(n) where P is the sample proportion, p_0 is the desired level of significance, and n is the total number of observations.\n",
      "    22. Standard Error of the Mean (SEM) - Definition: A measure of the variability of a statistic or parameter in a population. Formula: SEM = sqrt(P \\* (1-P)) / (n \\* sqrt(N)) where P is the sample proportion, N is the total number of observations, and n is the number of successes or failures in each group.\n",
      "    23. Z-test - Definition: A statistical test used to determine whether there is a significant difference between two groups or samples. Formula: Z = (P - p_0) / sqrt(n) where P is the sample proportion, p_0 is the desired level of significance, and n is the total number of observations.\n",
      "    24. T-Test - Definition: A statistical test used to determine whether there is a significant difference between two groups or samples. Formula: T = (P \\* (1-p_0)) / sqrt(n) where P is the sample proportion, p_0 is the desired level of significance, and n is the total number of observations.\n",
      "    25. Chi-Square Test - Definition: A statistical test used to determine whether there is a significant association between two categorical variables or a continuous variable and a categorical variable. Formula: Chi-square = (O - E) / sqrt(n) where O is the observed frequency, E is the expected frequency, and n is the sample size.\n",
      "    26. Margin of Error - Definition: The difference between the true value of a statistic or parameter and its estimated value, based on the variability of the data. Formula: MoE = (P \\* (1-p_0)) / sqrt(n) where P is the sample proportion, p_0 is the desired level of significance, and n is the total number of observations.\n",
      "    27. Confidence Interval - Definition: A range within which the true value of a statistic or parameter is likely to lie, based on the variability of the data. Formula: CI = (P \\* (1-p_0)) / sqrt(n) where P is the sample proportion, p_0 is the desired level of significance, and n is the total number of observations.\n",
      "    28. Hypothesis Testing - Definition: A statistical technique used to test a hypothesis about a population parameter based on a sample of data. Formula: H = (P \\* (1-p_0)) / sqrt(n) where P is the sample proportion, p_0 is the desired level of significance, and n is the total number of observations.\n",
      "    29. Regression Analysis - Definition: A statistical technique used to model the relationship between a dependent variable and one or more independent variables. Formula: R = (P \\* (1-p_0)) / sqrt(n) where P is the sample proportion, p_0 is the desired level of significance, and n is the total number of observations.\n",
      "    30. ANOVA - Definition: A statistical test used to determine whether there is a significant difference between three or more groups or samples. Formula: ANOVA = (P \\* (1-p_0)) / sqrt(n) where P is the sample proportion, p_0 is the desired level of significance, and n is the total number of observations.\n",
      "    31. Correlation Coefficient - Definition: A measure of the linear relationship between two continuous variables. Formula: R = (P \\* (1-p_0)) / sqrt(n) where P is the sample proportion, p_0 is the desired level of significance, and n is the total number of observations.\n",
      "    32. Non-Parametric Tests - Definition: A statistical test used to determine whether there is a significant difference between two groups or samples without assuming normality or equality of variances. Formula: NP = (P \\* (1-p_0)) / sqrt(n) where P is the sample proportion, p_0 is the desired level of significance, and n is the total number of observations.\n",
      "    33. Hypothesis Testing - Definition: A statistical technique used to test a hypothesis about a population parameter based on a sample of data. Formula: H = (P \\* (1-p_0)) / sqrt(n) where P is the sample proportion, p_0 is the desired level of significance, and n is the total number of observations.\n",
      "    34. Regression Analysis - Definition: A statistical technique used to model the relationship between a dependent variable and one or more independent variables. Formula: R = (P \\* (1-p_0)) / sqrt(n) where P is the sample proportion, p_0 is the desired level of significance, and n is the total number of observations.\n",
      "    35. ANOVA - Definition: A statistical test used to determine whether there is a significant difference between three or more groups or samples. Formula: ANOVA = (P \\* (1-p_0)) / sqrt(n) where P is the sample proportion, p_0 is the desired level of significance, and n is the total number of observations.\n",
      "    36. Correlation Coefficient - Definition: A measure of the linear relationship between two continuous variables. Formula: R = (P \\* (1-p_0)) / sqrt(n) where P is the sample proportion, p_0 is the desired level of significance, and n is the total number of observations.\n",
      "    37. Non-Parametric Tests - Definition: A statistical test used to determine whether there is a significant difference between two groups or samples without assuming normality or equality of variances. Formula: NP = (P \\* (1-p_0)) / sqrt(n) where P is the sample proportion, p_0 is the desired level of significance, and n is the total number of observations.\n",
      "    38. Hypothesis Testing - Definition: A statistical technique used to test a hypothesis about a population parameter based on a sample of data. Formula: H = (P \\* (1-p_0)) / sqrt(n) where P is the sample proportion, p_0 is the desired level of significance, and n is the total number of observations.\n",
      "    39. Regression Analysis - Definition: A statistical technique used to model the relationship between a dependent variable and one or more independent variables. Formula: R = (P \\* (1-p_0)) / sqrt(n) where P is the sample proportion, p_0 is the desired level of significance, and n is the total number of observations.\n",
      "    40. ANOVA - Definition: A statistical test used to determine whether there is a significant difference between three or more groups or samples. Formula: ANOVA = (P \\* (1-p_0)) / sqrt(n) where P is the sample proportion, p_0 is the desired level of significance, and n is the total number of observations.\n",
      "    41. Correlation Coefficient - Definition: A measure of the linear relationship between two continuous variables. Formula: R = (P \\* (1-p_0)) / sqrt(n) where P is the sample proportion, p_0 is the desired level of significance, and n is the total number of observations.\n",
      "    42. Non-Parametric Tests - Definition: A statistical test used to determine whether there is a significant difference between two groups or samples without assuming normality or equality of variances. Formula: NP = (P \\* (1-p_0)) / sqrt(n) where P is the sample proportion, p_0 is the desired level of significance, and n is the total number of observations.\n",
      "    43. Hypothesis Testing - Definition: A statistical technique used to test a hypothesis about a population parameter based on a sample of data. Formula: H = (P \\* (1-p_0)) / sqrt(n) where P is the sample proportion, p_0 is the desired level of significance, and n is the total number of observations.\n",
      "    44. Regression Analysis - Definition: A statistical technique used to model the relationship between a dependent variable and one or more independent variables.\n"
     ]
    }
   ],
   "source": [
    "all=summary_generation(r'C:\\Users\\Medha\\miniconda3\\m3_topic_summ\\data\\lec4\\lec4_transcript.pdf')"
   ]
  },
  {
   "cell_type": "code",
   "execution_count": 9,
   "metadata": {},
   "outputs": [],
   "source": [
    "\n",
    "def convert_paragraph_text(text):\n",
    "    # Open a text file for writing\n",
    "    with open(\"summary.txt\", \"w\") as file:\n",
    "    # Write the model output paragraph to the file\n",
    "        file.write(text)\n"
   ]
  },
  {
   "cell_type": "code",
   "execution_count": null,
   "metadata": {},
   "outputs": [],
   "source": []
  }
 ],
 "metadata": {
  "kernelspec": {
   "display_name": "base",
   "language": "python",
   "name": "python3"
  },
  "language_info": {
   "codemirror_mode": {
    "name": "ipython",
    "version": 3
   },
   "file_extension": ".py",
   "mimetype": "text/x-python",
   "name": "python",
   "nbconvert_exporter": "python",
   "pygments_lexer": "ipython3",
   "version": "3.10.12"
  }
 },
 "nbformat": 4,
 "nbformat_minor": 2
}
